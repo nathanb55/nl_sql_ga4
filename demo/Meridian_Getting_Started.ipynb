{
  "cells": [
    {
      "metadata": {
        "id": "yuQtvbG_vILv"
      },
      "cell_type": "markdown",
      "source": [
        "<table class=\"tfo-notebook-buttons\" align=\"left\">\n",
        "  <td>\n",
        "    <a target=\"_blank\" href=\"https://colab.research.google.com/github/google/meridian/blob/main/demo/Meridian_Getting_Started.ipynb\"><img src=\"https://www.tensorflow.org/images/colab_logo_32px.png\" />Run in Google Colab</a>\n",
        "  </td>\n",
        "  <td>\n",
        "    <a target=\"_blank\" href=\"https://github.com/google/meridian/blob/main/demo/Meridian_Getting_Started.ipynb\"><img src=\"https://www.tensorflow.org/images/GitHub-Mark-32px.png\" />View source on GitHub</a>\n",
        "  </td>\n",
        "</table>"
      ]
    },
    {
      "metadata": {
        "id": "KqSiFABximWU"
      },
      "cell_type": "markdown",
      "source": [
        "# **Introduction to Meridian Demo**"
      ]
    },
    {
      "metadata": {
        "id": "ckR-pavwis-Q"
      },
      "cell_type": "markdown",
      "source": [
        "Welcome to the Meridian end-to-end demo. This simplified demo showcases the fundamental functionalities and basic usage of the library, including working examples of the major modeling steps:\n",
        "\n",
        "\n",
        "<ol start=\"0\">\n",
        "  <li><a href=\"#install\">Install</a></li>\n",
        "  <li><a href=\"#load-data\">Load the data</a></li>\n",
        "  <li><a href=\"#configure-model\">Configure the model</a></li>\n",
        "  <li><a href=\"#model-diagnostics\">Run model diagnostics</a></li>\n",
        "  <li><a href=\"#generate-summary\">Generate model results & two-page output</a></li>\n",
        "  <li><a href=\"#generate-optimize\">Run budget optimization & two-page output</a></li>\n",
        "  <li><a href=\"#save-model\">Save the model object</a></li>\n",
        "</ol>\n",
        "\n",
        "\n",
        "Note that this notebook skips all of the exploratory data analysis and preprocessing steps. It assumes that you have completed these tasks before reaching this point in the demo.\n",
        "\n",
        "This notebook utilizes sample data. As a result, the numbers and results obtained might not accurately reflect what you encounter when working with a real dataset."
      ]
    },
    {
      "metadata": {
        "id": "GicRPam0mUhF"
      },
      "cell_type": "markdown",
      "source": [
        "<a name=\"install\"></a>\n",
        "## Step 0: Install"
      ]
    },
    {
      "metadata": {
        "id": "pDdX9WofM2fx"
      },
      "cell_type": "markdown",
      "source": [
        "1\\. Make sure you are using one of the available GPU Colab runtimes which is **required** to run Meridian. You can change your notebook's runtime in `Runtime > Change runtime type` in the menu. All users can use the T4 GPU runtime which is sufficient to run the demo colab, free of charge. Users who have purchased one of Colab's paid plans have access to premium GPUs (such as V100, A100 or L4 Nvidia GPU)."
      ]
    },
    {
      "metadata": {
        "id": "nFYRTDuesa1P"
      },
      "cell_type": "markdown",
      "source": [
        "2\\. Install the latest version of Meridian, and verify that GPU is available."
      ]
    },
    {
      "metadata": {
        "id": "h1jAk386jF3k"
      },
      "cell_type": "code",
      "source": [
        "# Install meridian: from PyPI @ latest release\n",
        "!pip install --upgrade google-meridian[colab,and-cuda]\n",
        "\n",
        "# Install meridian: from PyPI @ specific version\n",
        "# !pip install google-meridian[colab,and-cuda]==1.1.1\n",
        "\n",
        "# Install meridian: from GitHub @HEAD\n",
        "# !pip install --upgrade \"google-meridian[colab,and-cuda] @ git+https://github.com/google/meridian.git@main\""
      ],
      "outputs": [],
      "execution_count": null
    },
    {
      "metadata": {
        "id": "Fhwt1wzgLwpZ"
      },
      "cell_type": "code",
      "source": [
        "import numpy as np\n",
        "import pandas as pd\n",
        "import tensorflow as tf\n",
        "import tensorflow_probability as tfp\n",
        "import arviz as az\n",
        "\n",
        "import IPython\n",
        "\n",
        "from meridian import constants\n",
        "from meridian.data import load\n",
        "from meridian.data import test_utils\n",
        "from meridian.model import model\n",
        "from meridian.model import spec\n",
        "from meridian.model import prior_distribution\n",
        "from meridian.analysis import optimizer\n",
        "from meridian.analysis import analyzer\n",
        "from meridian.analysis import visualizer\n",
        "from meridian.analysis import summarizer\n",
        "from meridian.analysis import formatter\n",
        "\n",
        "# check if GPU is available\n",
        "from psutil import virtual_memory\n",
        "ram_gb = virtual_memory().total / 1e9\n",
        "print('Your runtime has {:.1f} gigabytes of available RAM\\n'.format(ram_gb))\n",
        "print(\"Num GPUs Available: \", len(tf.config.experimental.list_physical_devices('GPU')))\n",
        "print(\"Num CPUs Available: \", len(tf.config.experimental.list_physical_devices('CPU')))"
      ],
      "outputs": [],
      "execution_count": null
    },
    {
      "metadata": {
        "id": "kiM0UrN6qbIP"
      },
      "cell_type": "markdown",
      "source": [
        "<a name=\"load-data\"></a>\n",
        "## Step 1: Load the data"
      ]
    },
    {
      "metadata": {
        "id": "z18Mo-22x0lY"
      },
      "cell_type": "markdown",
      "source": [
        "Load the [simulated dataset in CSV format](https://github.com/google/meridian/blob/main/meridian/data/simulated_data/csv/geo_all_channels.csv) as follows."
      ]
    },
    {
      "metadata": {
        "id": "tZd-ik8NbjK6"
      },
      "cell_type": "markdown",
      "source": [
        "1\\. Map the column names to their corresponding variable types. For example, the column names 'GQV' and 'Competitor_Sales' are mapped to `controls`. The required variable types are `time`, `controls`, `population`, `kpi`, `revenue_per_kpi`, `media` and `spend`. If your data includes organic media or non-media treatments, you can add them using `organic_media` and `non_media_treatments` arguments. For the definition of each variable, see\n",
        "[Collect and organize your data](https://developers.google.com/meridian/docs/user-guide/collect-data)."
      ]
    },
    {
      "metadata": {
        "id": "7sV1ChiEYuyD"
      },
      "cell_type": "code",
      "source": [
        "coord_to_columns = load.CoordToColumns(\n",
        "    time='time',\n",
        "    geo='geo',\n",
        "    controls=['sentiment_score_control', 'competitor_sales_control'],\n",
        "    population='population',\n",
        "    kpi='conversions',\n",
        "    revenue_per_kpi='revenue_per_conversion',\n",
        "    media=[\n",
        "        'Channel0_impression',\n",
        "        'Channel1_impression',\n",
        "        'Channel2_impression',\n",
        "        'Channel3_impression',\n",
        "        'Channel4_impression',\n",
        "    ],\n",
        "    media_spend=[\n",
        "        'Channel0_spend',\n",
        "        'Channel1_spend',\n",
        "        'Channel2_spend',\n",
        "        'Channel3_spend',\n",
        "        'Channel4_spend',\n",
        "    ],\n",
        "    organic_media=['Organic_channel0_impression'],\n",
        "    non_media_treatments=['Promo'],\n",
        ")"
      ],
      "outputs": [],
      "execution_count": null
    },
    {
      "metadata": {
        "id": "8JBDZzl80BrY"
      },
      "cell_type": "markdown",
      "source": [
        "2\\. Map the media variables and the media spends to the designated channel names intended for display in the two-page HTML output. In the following example,  'Channel0_impression' and 'Channel0_spend' are connected to the same channel, 'Channel0'."
      ]
    },
    {
      "metadata": {
        "id": "4qdTSk4a0znn"
      },
      "cell_type": "code",
      "source": [
        "correct_media_to_channel = {\n",
        "    'Channel0_impression': 'Channel_0',\n",
        "    'Channel1_impression': 'Channel_1',\n",
        "    'Channel2_impression': 'Channel_2',\n",
        "    'Channel3_impression': 'Channel_3',\n",
        "    'Channel4_impression': 'Channel_4',\n",
        "}\n",
        "correct_media_spend_to_channel = {\n",
        "    'Channel0_spend': 'Channel_0',\n",
        "    'Channel1_spend': 'Channel_1',\n",
        "    'Channel2_spend': 'Channel_2',\n",
        "    'Channel3_spend': 'Channel_3',\n",
        "    'Channel4_spend': 'Channel_4',\n",
        "}"
      ],
      "outputs": [],
      "execution_count": null
    },
    {
      "metadata": {
        "id": "LNr75vQL1Zru"
      },
      "cell_type": "markdown",
      "source": [
        "3\\. Load the CSV data using `CsvDataLoader`. Note that `csv_path` is the path to the data file location."
      ]
    },
    {
      "metadata": {
        "id": "udaLGvwl1U8B"
      },
      "cell_type": "code",
      "source": [
        "loader = load.CsvDataLoader(\n",
        "    csv_path=\"https://raw.githubusercontent.com/google/meridian/refs/heads/main/meridian/data/simulated_data/csv/geo_all_channels.csv\",\n",
        "    kpi_type='non_revenue',\n",
        "    coord_to_columns=coord_to_columns,\n",
        "    media_to_channel=correct_media_to_channel,\n",
        "    media_spend_to_channel=correct_media_spend_to_channel,\n",
        ")\n",
        "data = loader.load()"
      ],
      "outputs": [],
      "execution_count": null
    },
    {
      "metadata": {
        "id": "DlF5vs8vb8Wn"
      },
      "cell_type": "markdown",
      "source": [
        "Note that the simulated data here does not contain reach and frequency. We recommend including reach and frequency data whenever they are available. For information about the advantages of utilizing reach and frequency, see [Bayesian Hierarchical Media Mix Model Incorporating Reach and Frequency Data](https://research.google/pubs/bayesian-hierarchical-media-mix-model-incorporating-reach-and-frequency-data/#:~:text=By%20incorporating%20R%26F%20into%20MMM,based%20on%20optimal%20frequency%20recommendations.). For code snippet for loading reach and frequency data, see [Load geo-level data with reach and frequency](https://developers.google.com/meridian/docs/user-guide/load-geo-data-with-rf)\n",
        "\n",
        "The documentation provides guidance for instances where reach and frequency data is accessible for specific channels. Additionally, for information about how to load other data types and formats, including data with reach and frequency, see [Supported data types and formats](https://developers.google.com/meridian/docs/user-guide/supported-data-types-formats)."
      ]
    },
    {
      "metadata": {
        "id": "FO6pDd6f2V1L"
      },
      "cell_type": "markdown",
      "source": [
        "<a name=\"configure-model\"></a>\n",
        "## Step 2: Configure the model"
      ]
    },
    {
      "metadata": {
        "id": "a_mQI7HzxxK4"
      },
      "cell_type": "markdown",
      "source": [
        "Meridian uses Bayesian framework and Markov Chain Monte Carlo (MCMC) algorithms to sample from the posterior distribution.\n",
        "\n",
        "1\\. Inititalize the `Meridian` class by passing the loaded data and the customized model specification. One advantage of Meridian lies in its capacity to calibrate the model directly through ROI priors, as described in [Media Mix Model Calibration With Bayesian Priors](https://research.google/pubs/media-mix-model-calibration-with-bayesian-priors/). In this particular example, the ROI priors for all media channels are identical, with each being represented as Lognormal(0.2, 0.9)."
      ]
    },
    {
      "metadata": {
        "id": "8XNDd7HX1qTn"
      },
      "cell_type": "code",
      "source": [
        "roi_mu = 0.2     # Mu for ROI prior for each media channel.\n",
        "roi_sigma = 0.9  # Sigma for ROI prior for each media channel.\n",
        "prior = prior_distribution.PriorDistribution(\n",
        "    roi_m=tfp.distributions.LogNormal(roi_mu, roi_sigma, name=constants.ROI_M)\n",
        ")\n",
        "model_spec = spec.ModelSpec(prior=prior)\n",
        "\n",
        "mmm = model.Meridian(input_data=data, model_spec=model_spec)"
      ],
      "outputs": [],
      "execution_count": null
    },
    {
      "metadata": {
        "id": "kPQBPlX8cmEv"
      },
      "cell_type": "markdown",
      "source": [
        "2\\. Use the `sample_prior()` and `sample_posterior()` methods to obtain samples from the prior and posterior distributions of model parameters. If you are using the T4 GPU runtime this step may take about 10 minutes for the provided data set."
      ]
    },
    {
      "metadata": {
        "id": "KVB3avRdcRNz"
      },
      "cell_type": "code",
      "source": [
        "%%time\n",
        "mmm.sample_prior(500)\n",
        "mmm.sample_posterior(n_chains=10, n_adapt=2000, n_burnin=500, n_keep=1000, seed=1)"
      ],
      "outputs": [],
      "execution_count": null
    },
    {
      "metadata": {
        "id": "5WUM2V26cspo"
      },
      "cell_type": "markdown",
      "source": [
        "For more information about configuring the parameters and using a customized model specification, such as setting different ROI priors for each media channel, see [Configure the model](https://developers.google.com/meridian/docs/user-guide/configure-model)."
      ]
    },
    {
      "metadata": {
        "id": "t9oECJwUdJTm"
      },
      "cell_type": "markdown",
      "source": [
        "<a name=\"model-diagnostics\"></a>\n",
        "## Step 3: Run model diagnostics"
      ]
    },
    {
      "metadata": {
        "id": "kSzK6JeMxrV6"
      },
      "cell_type": "markdown",
      "source": [
        "After the model is built, you must assess convergence, debug the model if needed, and then assess the model fit.\n",
        "\n",
        "1\\. Assess convergence. Run the following code to generate r-hat statistics. R-hat close to 1.0 indicate convergence. R-hat < 1.2 indicates approximate convergence and is a reasonable threshold for many problems."
      ]
    },
    {
      "metadata": {
        "id": "rFuc7B86yLvM"
      },
      "cell_type": "code",
      "source": [
        "model_diagnostics = visualizer.ModelDiagnostics(mmm)\n",
        "model_diagnostics.plot_rhat_boxplot()"
      ],
      "outputs": [],
      "execution_count": null
    },
    {
      "metadata": {
        "id": "nCwt5SGYxlaE"
      },
      "cell_type": "markdown",
      "source": [
        "2\\. Assess the model's fit by comparing the expected sales against the actual sales."
      ]
    },
    {
      "metadata": {
        "id": "7Z4zJtHyyhif"
      },
      "cell_type": "code",
      "source": [
        "model_fit = visualizer.ModelFit(mmm)\n",
        "model_fit.plot_model_fit()"
      ],
      "outputs": [],
      "execution_count": null
    },
    {
      "metadata": {
        "id": "76IBQcWLu980"
      },
      "cell_type": "markdown",
      "source": [
        "For more information and additional model diagnostics checks, see [Modeling diagnostics](https://developers.google.com/meridian/docs/user-guide/model-diagnostics)."
      ]
    },
    {
      "metadata": {
        "id": "zGUOFFbCdOtl"
      },
      "cell_type": "markdown",
      "source": [
        "<a name=\"generate-summary\"></a>\n",
        "## Step 4: Generate model results & two-page output"
      ]
    },
    {
      "metadata": {
        "id": "puHjkyvZEOEg"
      },
      "cell_type": "markdown",
      "source": [
        "To export the two-page HTML summary output, initialize the `Summarizer` class with the model object. Then pass in the filename, filepath, start date, and end date to `output_model_results_summary` to run the summary for that time duration and save it to the specified file."
      ]
    },
    {
      "metadata": {
        "id": "keOpq1qKNbq0"
      },
      "cell_type": "code",
      "source": [
        "mmm_summarizer = summarizer.Summarizer(mmm)"
      ],
      "outputs": [],
      "execution_count": null
    },
    {
      "metadata": {
        "id": "Ltr4uP80YQe7"
      },
      "cell_type": "code",
      "source": [
        "from google.colab import drive\n",
        "drive.mount('/content/drive')"
      ],
      "outputs": [],
      "execution_count": null
    },
    {
      "metadata": {
        "id": "qbgNaDYpIfQl"
      },
      "cell_type": "code",
      "source": [
        "filepath = '/content/drive/MyDrive'\n",
        "start_date = '2021-01-25'\n",
        "end_date = '2024-01-15'\n",
        "mmm_summarizer.output_model_results_summary('summary_output.html', filepath, start_date, end_date)"
      ],
      "outputs": [],
      "execution_count": null
    },
    {
      "metadata": {
        "id": "j9sBxuvidmr8"
      },
      "cell_type": "markdown",
      "source": [
        "Here is a preview of the two-page output based on the simulated data:"
      ]
    },
    {
      "metadata": {
        "id": "vaUe7uZRfJPm"
      },
      "cell_type": "code",
      "source": [
        "IPython.display.HTML(filename='/content/drive/MyDrive/summary_output.html')"
      ],
      "outputs": [],
      "execution_count": null
    },
    {
      "metadata": {
        "id": "PphWMfKdwPIw"
      },
      "cell_type": "markdown",
      "source": [
        "For a customized two-page report, model results summary table, and individual visualizations, see [Model results report](https://developers.google.com/meridian/docs/user-guide/generate-model-results-report) and [plot media visualizations](https://developers.google.com/meridian/docs/user-guide/plot-media-visualizations).\n",
        "\n",
        "\n",
        "\n"
      ]
    },
    {
      "metadata": {
        "id": "msqwz2MN5mTq"
      },
      "cell_type": "markdown",
      "source": [
        "<a name=\"generate-optimize\"></a>\n",
        "## Step 5: Run budget optimization & generate an optimization report"
      ]
    },
    {
      "metadata": {
        "id": "khCL6Q2sS-iy"
      },
      "cell_type": "markdown",
      "source": [
        "You can choose what scenario to run for the budget allocation. In default scenario, you find the optimal allocation across channels for a given budget to maximize the return on investment (ROI).\n",
        "\n",
        "1\\. Instantiate the `BudgetOptimizer` class and run the `optimize()` method without any customization, to run the default library's Fixed Budget Scenario to maximize ROI."
      ]
    },
    {
      "metadata": {
        "id": "38lhqyLvHf51"
      },
      "cell_type": "code",
      "source": [
        "%%time\n",
        "budget_optimizer = optimizer.BudgetOptimizer(mmm)\n",
        "optimization_results = budget_optimizer.optimize()"
      ],
      "outputs": [],
      "execution_count": null
    },
    {
      "metadata": {
        "id": "fLOMqDmCRKRO"
      },
      "cell_type": "markdown",
      "source": [
        "2\\. Export the 2-page HTML optimization report, which contains optimized spend allocations and ROI."
      ]
    },
    {
      "metadata": {
        "id": "at7V7YEh_zwZ"
      },
      "cell_type": "code",
      "source": [
        "filepath = '/content/drive/MyDrive'\n",
        "optimization_results.output_optimization_summary('optimization_output.html', filepath)"
      ],
      "outputs": [],
      "execution_count": null
    },
    {
      "metadata": {
        "id": "jq_mcrj1STDU"
      },
      "cell_type": "code",
      "source": [
        "IPython.display.HTML(filename='/content/drive/MyDrive/optimization_output.html')"
      ],
      "outputs": [],
      "execution_count": null
    },
    {
      "metadata": {
        "id": "kIWTubaN0RKC"
      },
      "cell_type": "markdown",
      "source": [
        "For information about customized optimization scenarios, such as flexible budget scenarios, see [Budget optimization scenarios](https://developers.google.com/meridian/docs/user-guide/budget-optimization-scenarios). For more information about optimization results summary and individual visualizations, see [optimization results output](https://developers.google.com/meridian/docs/user-guide/generate-optimization-results-output) and [optimization visualizations](https://developers.google.com/meridian/docs/user-guide/plot-optimization-visualizations)."
      ]
    },
    {
      "metadata": {
        "id": "3m98O3a_TrVg"
      },
      "cell_type": "markdown",
      "source": [
        "<a name=\"save-model\"></a>\n",
        "## Step 6: Save the model object"
      ]
    },
    {
      "metadata": {
        "id": "2Zjh64YG8Dti"
      },
      "cell_type": "markdown",
      "source": [
        "We recommend that you save the model object for future use. This helps you to  avoid repetitive model runs and saves time and computational resources. After the model object is saved, you can load it at a later stage to continue the analysis or visualizations without having to re-run the model.\n"
      ]
    },
    {
      "metadata": {
        "id": "1kamZpyv8KMh"
      },
      "cell_type": "markdown",
      "source": [
        "Run the following codes to save the model object:"
      ]
    },
    {
      "metadata": {
        "id": "FfaQQ8-fTw0K"
      },
      "cell_type": "code",
      "source": [
        "file_path='/content/drive/MyDrive/saved_mmm.pkl'\n",
        "model.save_mmm(mmm, file_path)"
      ],
      "outputs": [],
      "execution_count": null
    },
    {
      "metadata": {
        "id": "k2v_s2uS8PgA"
      },
      "cell_type": "markdown",
      "source": [
        "Run the following codes to load the saved model:"
      ]
    },
    {
      "metadata": {
        "id": "ZGUmiYI48epA"
      },
      "cell_type": "code",
      "source": [
        "mmm = model.load_mmm(file_path)"
      ],
      "outputs": [],
      "execution_count": null
    },
    {
      "cell_type": "markdown",
      "source": [
        "# Generate custom output"
      ],
      "metadata": {
        "id": "TDe74CnzYFFc"
      }
    },
    {
      "cell_type": "code",
      "source": [
        "media_summary = visualizer.MediaSummary(mmm)\n",
        "df_summary = media_summary.summary_table()\n",
        "df_summary = df_summary[df_summary[\"distribution\"] == \"posterior\"].reset_index(drop=True)"
      ],
      "metadata": {
        "id": "gvRb8WwIYEVU"
      },
      "execution_count": null,
      "outputs": []
    },
    {
      "cell_type": "code",
      "source": [
        "df_summary"
      ],
      "metadata": {
        "id": "6_cmV4LhZ7OA"
      },
      "execution_count": null,
      "outputs": []
    },
    {
      "cell_type": "code",
      "source": [
        "#optimization_results\n",
        "non_optimised_budget_df = optimization_results.nonoptimized_data\n",
        "optimised_budget_df = optimization_results.optimized_data"
      ],
      "metadata": {
        "id": "b9L79pCnXZsx"
      },
      "execution_count": null,
      "outputs": []
    },
    {
      "cell_type": "code",
      "source": [
        "#TEMP\n",
        "\n",
        "#non_optimised_budget_df.spend\n",
        "#optimised_budget_df\n",
        "df_actual"
      ],
      "metadata": {
        "id": "LJmVfB9xb449"
      },
      "execution_count": null,
      "outputs": []
    },
    {
      "cell_type": "code",
      "source": [
        "# Step 1: Convert both datasets to DataFrames\n",
        "df_actual = non_optimised_budget_df.to_dataframe().reset_index()\n",
        "df_optimised = optimised_budget_df.to_dataframe().reset_index()\n",
        "\n",
        "# Step 2: Extract 'mean' rows only\n",
        "df_actual_spend = df_actual[df_actual[\"metric\"] == \"mean\"][[\"channel\", \"spend\"]].rename(columns={\"spend\": \"actual_spend\"})\n",
        "\n",
        "df_optimised_mean = df_optimised[df_optimised[\"metric\"] == \"mean\"]\n",
        "df_optimised_spend = df_optimised_mean[[\"channel\", \"spend\"]].rename(columns={\"spend\": \"optimised_spend\"})\n",
        "df_incremental = df_optimised_mean[[\"channel\", \"incremental_outcome\"]].rename(columns={\"incremental_outcome\": \"incremental_revenue\"})\n",
        "\n",
        "# Step 2: Merge everything\n",
        "df_combined = (\n",
        "    df_actual_spend\n",
        "    .merge(df_optimised_spend, on=\"channel\")\n",
        "    .merge(df_incremental, on=\"channel\")\n",
        ")\n",
        "\n",
        "# Step 3: Calculate differences and formatting\n",
        "df_combined[\"delta_spend\"] = df_combined[\"optimised_spend\"] - df_combined[\"actual_spend\"]\n",
        "df_combined[\"delta_spend_millions\"] = df_combined[\"delta_spend\"] / 1_000_000\n",
        "df_combined[\"incremental_revenue_millions\"] = df_combined[\"incremental_revenue\"] / 1_000_000\n",
        "\n"
      ],
      "metadata": {
        "id": "XwOoTwjsdPv4"
      },
      "execution_count": null,
      "outputs": []
    },
    {
      "cell_type": "code",
      "source": [
        "df_combined"
      ],
      "metadata": {
        "id": "p0SLTNmJdWgQ"
      },
      "execution_count": null,
      "outputs": []
    },
    {
      "cell_type": "code",
      "source": [
        "df_combined"
      ],
      "metadata": {
        "id": "KBa24Zbwh9gk"
      },
      "execution_count": null,
      "outputs": []
    }
  ],
  "metadata": {
    "accelerator": "GPU",
    "colab": {
      "gpuType": "T4",
      "private_outputs": true,
      "provenance": [],
      "toc_visible": true
    },
    "kernelspec": {
      "display_name": "Python 3",
      "name": "python3"
    },
    "language_info": {
      "name": "python"
    }
  },
  "nbformat": 4,
  "nbformat_minor": 0
}